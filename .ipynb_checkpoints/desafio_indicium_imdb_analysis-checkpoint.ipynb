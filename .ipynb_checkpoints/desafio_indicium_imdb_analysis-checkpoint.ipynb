{
 "cells": [
  {
   "cell_type": "markdown",
   "id": "d66e3264",
   "metadata": {},
   "source": [
    "# Desafio de Ciência de Dados - Indicium\n",
    "\n",
    "Este notebook contém a análise exploratória de dados (EDA), modelagem preditiva e resposta às perguntas do desafio."
   ]
  },
  {
   "cell_type": "code",
   "execution_count": null,
   "id": "65d0d292",
   "metadata": {},
   "outputs": [],
   "source": [
    "import pandas as pd\n",
    "import matplotlib.pyplot as plt\n",
    "from sklearn.model_selection import train_test_split\n",
    "from sklearn.linear_model import LinearRegression\n",
    "from sklearn.metrics import mean_squared_error\n",
    "import pickle"
   ]
  },
  {
   "cell_type": "markdown",
   "id": "aa677c95",
   "metadata": {},
   "source": [
    "## Leitura e Compreensão dos Dados"
   ]
  },
  {
   "cell_type": "code",
   "execution_count": null,
   "id": "d1ef86f4",
   "metadata": {},
   "outputs": [],
   "source": [
    "file_path = '/mnt/data/desafio_indicium_imdb.csv'\n",
    "df = pd.read_csv(file_path)\n",
    "df.head()"
   ]
  },
  {
   "cell_type": "markdown",
   "id": "c598f757",
   "metadata": {},
   "source": [
    "## Tratamento de Valores Ausentes e Conversão de Tipos de Dados"
   ]
  },
  {
   "cell_type": "code",
   "execution_count": null,
   "id": "482e7f2b",
   "metadata": {},
   "outputs": [],
   "source": [
    "# Remover a coluna 'Unnamed: 0' que parece ser um índice desnecessário\n",
    "df = df.drop(columns=['Unnamed: 0'])\n",
    "\n",
    "# Converter 'Released_Year' para int\n",
    "df['Released_Year'] = pd.to_numeric(df['Released_Year'], errors='coerce')\n",
    "\n",
    "# Extrair os minutos de 'Runtime' e converter para int\n",
    "df['Runtime'] = df['Runtime'].str.extract(r'(\\d+)').astype(int)\n",
    "\n",
    "# Remover caracteres não numéricos de 'Gross' e converter para float\n",
    "df['Gross'] = df['Gross'].str.replace(',', '').astype(float)\n",
    "\n",
    "# Verificar as conversões e valores ausentes novamente\n",
    "df.isnull().sum()"
   ]
  },
  {
   "cell_type": "markdown",
   "id": "d9975629",
   "metadata": {},
   "source": [
    "## Preenchimento de Valores Ausentes"
   ]
  },
  {
   "cell_type": "code",
   "execution_count": null,
   "id": "53d97caf",
   "metadata": {},
   "outputs": [],
   "source": [
    "# Remover a linha com valor ausente em 'Released_Year'\n",
    "df = df.dropna(subset=['Released_Year'])\n",
    "\n",
    "# Preenchendo valores ausentes em 'Meta_score' e 'Gross' com a mediana\n",
    "df['Meta_score'].fillna(df['Meta_score'].median(), inplace=True)\n",
    "df['Gross'].fillna(df['Gross'].median(), inplace=True)\n",
    "\n",
    "# Verificar novamente os valores ausentes após os tratamentos\n",
    "df.isnull().sum()"
   ]
  },
  {
   "cell_type": "markdown",
   "id": "6c842285",
   "metadata": {},
   "source": [
    "## Estatísticas Descritivas e Distribuições"
   ]
  },
  {
   "cell_type": "code",
   "execution_count": null,
   "id": "c9e47256",
   "metadata": {},
   "outputs": [],
   "source": [
    "df.describe()"
   ]
  },
  {
   "cell_type": "markdown",
   "id": "3370609a",
   "metadata": {},
   "source": [
    "## Visualizações das Distribuições"
   ]
  },
  {
   "cell_type": "code",
   "execution_count": null,
   "id": "200faffe",
   "metadata": {},
   "outputs": [],
   "source": [
    "fig, axes = plt.subplots(3, 2, figsize=(15, 15))\n",
    "\n",
    "# Distribuição do IMDB_Rating\n",
    "axes[0, 0].hist(df['IMDB_Rating'], bins=20, color='skyblue')\n",
    "axes[0, 0].set_title('Distribuição do IMDB_Rating')\n",
    "axes[0, 0].set_xlabel('IMDB_Rating')\n",
    "axes[0, 0].set_ylabel('Frequência')\n",
    "\n",
    "# Distribuição do Gross\n",
    "axes[0, 1].hist(df['Gross'], bins=20, color='skyblue')\n",
    "axes[0, 1].set_title('Distribuição do Gross')\n",
    "axes[0, 1].set_xlabel('Gross')\n",
    "axes[0, 1].set_ylabel('Frequência')\n",
    "\n",
    "# Distribuição do Released_Year\n",
    "axes[1, 0].hist(df['Released_Year'], bins=20, color='skyblue')\n",
    "axes[1, 0].set_title('Distribuição do Released_Year')\n",
    "axes[1, 0].set_xlabel('Released_Year')\n",
    "axes[1, 0].set_ylabel('Frequência')\n",
    "\n",
    "# Distribuição do Runtime\n",
    "axes[1, 1].hist(df['Runtime'], bins=20, color='skyblue')\n",
    "axes[1, 1].set_title('Distribuição do Runtime')\n",
    "axes[1, 1].set_xlabel('Runtime')\n",
    "axes[1, 1].set_ylabel('Frequência')\n",
    "\n",
    "# Distribuição do Meta_score\n",
    "axes[2, 0].hist(df['Meta_score'], bins=20, color='skyblue')\n",
    "axes[2, 0].set_title('Distribuição do Meta_score')\n",
    "axes[2, 0].set_xlabel('Meta_score')\n",
    "axes[2, 0].set_ylabel('Frequência')\n",
    "\n",
    "# Distribuição do No_of_Votes\n",
    "axes[2, 1].hist(df['No_of_Votes'], bins=20, color='skyblue')\n",
    "axes[2, 1].set_title('Distribuição do No_of_Votes')\n",
    "axes[2, 1].set_xlabel('No_of_Votes')\n",
    "axes[2, 1].set_ylabel('Frequência')\n",
    "\n",
    "plt.tight_layout()\n",
    "plt.show()"
   ]
  },
  {
   "cell_type": "markdown",
   "id": "f75189dc",
   "metadata": {},
   "source": [
    "## Matriz de Correlação"
   ]
  },
  {
   "cell_type": "code",
   "execution_count": null,
   "id": "e022a3fe",
   "metadata": {},
   "outputs": [],
   "source": [
    "# Calcular a matriz de correlação\n",
    "correlation_matrix = df.corr()\n",
    "\n",
    "# Plotando a matriz de correlação\n",
    "plt.figure(figsize=(12, 8))\n",
    "plt.matshow(correlation_matrix, fignum=1, cmap='coolwarm')\n",
    "plt.xticks(range(len(correlation_matrix.columns)), correlation_matrix.columns, rotation=90)\n",
    "plt.yticks(range(len(correlation_matrix.columns)), correlation_matrix.columns)\n",
    "plt.colorbar()\n",
    "plt.title('Matriz de Correlação', pad=20)\n",
    "plt.show()\n",
    "\n",
    "correlation_matrix"
   ]
  },
  {
   "cell_type": "markdown",
   "id": "390ebe74",
   "metadata": {},
   "source": [
    "## Modelagem Preditiva"
   ]
  },
  {
   "cell_type": "code",
   "execution_count": null,
   "id": "c74b396a",
   "metadata": {},
   "outputs": [],
   "source": [
    "# Seleção de variáveis\n",
    "features = ['Meta_score', 'No_of_Votes', 'Gross', 'Runtime', 'Released_Year']\n",
    "target = 'IMDB_Rating'\n",
    "\n",
    "# Divisão dos dados em treino e teste\n",
    "X = df[features]\n",
    "y = df[target]\n",
    "\n",
    "X_train, X_test, y_train, y_test = train_test_split(X, y, test_size=0.2, random_state=42)\n",
    "\n",
    "# Treinamento do modelo de Regressão Linear\n",
    "model = LinearRegression()\n",
    "model.fit(X_train, y_train)\n",
    "\n",
    "# Previsões\n",
    "y_pred = model.predict(X_test)\n",
    "\n",
    "# Cálculo do RMSE\n",
    "rmse = mean_squared_error(y_test, y_pred, squared=False)\n",
    "\n",
    "# Salvando o modelo\n",
    "model_filename = '/mnt/data/imdb_rating_predictor.pkl'\n",
    "with open(model_filename, 'wb') as file:\n",
    "    pickle.dump(model, file)\n",
    "\n",
    "rmse, model_filename"
   ]
  }
 ],
 "metadata": {
  "language_info": {
   "name": "python"
  }
 },
 "nbformat": 4,
 "nbformat_minor": 5
}
